{
 "cells": [
  {
   "cell_type": "markdown",
   "metadata": {},
   "source": [
    "# Systems of Linear Equations - Lab\n",
    "\n",
    "## Introduction\n",
    "The following scenarios present problems that can be solved as a system of equations while performing substitutions and eliminations as you saw in the previous lesson.\n",
    "\n",
    "* Solve these problems by hand, showing all the steps to work out the unknown variable values \n",
    "* Verify your answers by showing the calculated values satisfy all equations\n",
    "\n",
    "## Objectives\n",
    "\n",
    "In this lab you will: \n",
    "\n",
    "- Solve a system of equations using elimination and substitution\n",
    "\n",
    "## Exercise 1\n",
    "Jane paid 12 dollars for 4 cups of coffee and 4 cups of tea. 3 cups of coffee cost as much as 2 cups of tea. What would be the total cost of 5 cups of coffee and 5 cups of tea?\n",
    "\n",
    "### Solution\n",
    "\n",
    "> Let $x$ be the unit price of coffee and $y$ be the unit price of tea"
   ]
  },
  {
   "cell_type": "code",
   "execution_count": 4,
   "metadata": {
    "ExecuteTime": {
     "end_time": "2020-07-28T20:01:44.919389Z",
     "start_time": "2020-07-28T20:01:44.914394Z"
    }
   },
   "outputs": [
    {
     "name": "stdout",
     "output_type": "stream",
     "text": [
      "5 cups of tea and 5 cups of coffee = 15 dollars\n"
     ]
    }
   ],
   "source": [
    "# y = (3/2)*x\n",
    "# 12 = 4*x + 4*(3/2)*x\n",
    "# 12 = 10*x\n",
    "x = 6/5\n",
    "# 4*y + 4*(6/5) = 12\n",
    "# 4*y + (24/5) = 12\n",
    "# 4y = 60/5 - 24/5 \n",
    "y = 9/5\n",
    "\n",
    "answer = int(5*x + 5*y)\n",
    "print(\"5 cups of tea and 5 cups of coffee = {} dollars\".format(answer))\n",
    "# Your solution here \n",
    "# Answer: 5 cups of tea and 5 cups of coffee = 15 dollars"
   ]
  },
  {
   "cell_type": "markdown",
   "metadata": {},
   "source": [
    "## Exercise 2\n",
    "\n",
    "Jim has more money than Bob. If Jim gave Bob 20 dollars, they would have the same amount. If Bob gave Jim 22 dollars, however, Jim would then have twice as much as Bob. \n",
    "\n",
    "How much does each one actually have?\n",
    "\n",
    "### Solution\n",
    "> Let x be the amount of money that Jim has and y be the amount that Bob has "
   ]
  },
  {
   "cell_type": "code",
   "execution_count": 8,
   "metadata": {
    "ExecuteTime": {
     "end_time": "2020-07-28T20:26:05.680894Z",
     "start_time": "2020-07-28T20:26:05.674897Z"
    }
   },
   "outputs": [
    {
     "name": "stdout",
     "output_type": "stream",
     "text": [
      "Answer:\n",
      "y = 106 (Bob's amount)\n",
      "x = 146 (Jim's amount)\n"
     ]
    }
   ],
   "source": [
    "# Your solution here \n",
    "# x - 20 = y + 20\n",
    "# x + 22 = 2(y - 22) => x + 22 = 2y - 44\n",
    "\n",
    "# x - 20 = y + 20 \n",
    "# -x - 22 = -2y + 44\n",
    "# -42 = -2y + 64\n",
    "# y = 42 + 64\n",
    "y = (42 + 64)\n",
    "\n",
    "x = y + 40\n",
    "\n",
    "\n",
    "\n",
    "# Answer:\n",
    "# y = 106 (Bob's amount)\n",
    "# x = 146 (Jim's amount)\n",
    "print('Answer:')\n",
    "print(\"y = {} (Bob's amount)\".format(y))\n",
    "print(\"x = {} (Jim's amount)\".format(x))"
   ]
  },
  {
   "cell_type": "markdown",
   "metadata": {},
   "source": [
    "## Exercise 3\n",
    "\n",
    "Mia has 30 coins, consisting of quarters (25 cents) and dimes (10 cents), which totals to the amount 5.70 dollars.  \n",
    "How many of each does she have?\n",
    "\n",
    "### Solution\n",
    "\n",
    "> Let x be the number of quarters and y be the number of dimes "
   ]
  },
  {
   "cell_type": "code",
   "execution_count": 12,
   "metadata": {
    "ExecuteTime": {
     "end_time": "2020-07-28T20:46:25.399566Z",
     "start_time": "2020-07-28T20:46:25.393570Z"
    }
   },
   "outputs": [
    {
     "name": "stdout",
     "output_type": "stream",
     "text": [
      "Answer:\n",
      "x = 18.0 quarters\n",
      "y = 12.0 dimes\n"
     ]
    },
    {
     "data": {
      "text/plain": [
       "5.7"
      ]
     },
     "execution_count": 12,
     "metadata": {},
     "output_type": "execute_result"
    }
   ],
   "source": [
    "# Your solution here \n",
    "# 0.25*x + 0.10*y = 5.70\n",
    "# x + y = 30\n",
    "# y = 30 - 1x\n",
    "\n",
    "# 0.25x + .1(30 - 1x) = 5.70\n",
    "# .25x - .1x + 3 = 5.70\n",
    "# .15x = 2.70\n",
    "x = round((2.70/.15), 0)\n",
    "y = 30 - x\n",
    "\n",
    "\n",
    "\n",
    "# Answer:\n",
    "# x = 18 quarters\n",
    "# y = 12 dimes\n",
    "print('Answer:')\n",
    "print('x = {} quarters'.format(x))\n",
    "print('y = {} dimes'.format(y))\n",
    "0.25*x + 0.10*y "
   ]
  },
  {
   "cell_type": "markdown",
   "metadata": {},
   "source": [
    "## Level up (Optional)\n",
    "For more practice with linear equations, visit the following links for more complex equations:\n",
    "\n",
    "* https://www.transum.org/software/SW/Starter_of_the_day/Students/Simultaneous_Equations.asp?Level=6\n",
    "* https://www.transum.org/software/SW/Starter_of_the_day/Students/Simultaneous_Equations.asp?Level=7\n",
    "\n",
    "## Summary\n",
    "\n",
    "In this lesson, you learned how to solve linear equations by hand to find the coefficient values. You'll now move forward to have a deeper look into vectors and matrices and how Python and NumPy can help us solve more complex equations in an analytical context. "
   ]
  }
 ],
 "metadata": {
  "kernelspec": {
   "display_name": "Python 3",
   "language": "python",
   "name": "python3"
  },
  "language_info": {
   "codemirror_mode": {
    "name": "ipython",
    "version": 3
   },
   "file_extension": ".py",
   "mimetype": "text/x-python",
   "name": "python",
   "nbconvert_exporter": "python",
   "pygments_lexer": "ipython3",
   "version": "3.6.9"
  },
  "toc": {
   "base_numbering": 1,
   "nav_menu": {},
   "number_sections": true,
   "sideBar": true,
   "skip_h1_title": false,
   "title_cell": "Table of Contents",
   "title_sidebar": "Contents",
   "toc_cell": false,
   "toc_position": {},
   "toc_section_display": true,
   "toc_window_display": false
  },
  "varInspector": {
   "cols": {
    "lenName": 16,
    "lenType": 16,
    "lenVar": 40
   },
   "kernels_config": {
    "python": {
     "delete_cmd_postfix": "",
     "delete_cmd_prefix": "del ",
     "library": "var_list.py",
     "varRefreshCmd": "print(var_dic_list())"
    },
    "r": {
     "delete_cmd_postfix": ") ",
     "delete_cmd_prefix": "rm(",
     "library": "var_list.r",
     "varRefreshCmd": "cat(var_dic_list()) "
    }
   },
   "types_to_exclude": [
    "module",
    "function",
    "builtin_function_or_method",
    "instance",
    "_Feature"
   ],
   "window_display": false
  }
 },
 "nbformat": 4,
 "nbformat_minor": 2
}
